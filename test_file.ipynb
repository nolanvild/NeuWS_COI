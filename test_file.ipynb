{
 "cells": [
  {
   "cell_type": "code",
   "execution_count": null,
   "metadata": {},
   "outputs": [],
   "source": [
    "python ./recon_exp_data.py \\\n",
    "    --static_phase \\\n",
    "    --num_t 100 --data_dir static_objects_static_aberrations/dog_esophagus_0.5diffuser/Zernike_SLM_data  \\\n",
    "    --scene_name dog_esophagus_0.5diffuser --phs_layers 4 --num_epochs 1000 --save_per_frame"
   ]
  }
 ],
 "metadata": {
  "language_info": {
   "name": "python"
  }
 },
 "nbformat": 4,
 "nbformat_minor": 2
}
